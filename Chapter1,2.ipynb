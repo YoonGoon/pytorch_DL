{
 "cells": [
  {
   "cell_type": "markdown",
   "metadata": {},
   "source": [
    "Chapter1\n",
    "\n",
    "1) 인공지능과 머신러닝\n",
    "\n",
    "    - 인공지능을 구현하는 방법론은 다양하며, 머신러닝 도 그 중 하나이다. \n",
    "    - 딥러닝은 머신러닝의 수많은 학습법 중 한 갈래이다. \n",
    "    - 초기 인공지능 개발 방법은 입,출력 모든 단계를 컴퓨터에 일일이 알려주었다. \n",
    "    - 머신러닝은 정답을 알려주고, 프로그램이 정답까지 찾아가는 단게를 학습한다. \n",
    "\n",
    "2) 지도학습, 비지도학습, 강화학습\n",
    "\n",
    "    - 지도 학습은 입력과 답을 보여줘 입력과 출력간의 연관성을 찾게 하는 학습으로 새로운 데이터에 대한 예측에 쓰인다. \n",
    "      \n",
    "      -> 가장 많이 쓰이며 이미지/음성 인식과 기계번역 등 다양한 분야에 이용되지만, 정답 레이블을 준비해야 한다.\n",
    "      \n",
    "    - 비지도 학습은 정답이 없는 데이터로 군집 분석, 데이터 표현, 차원 감소등에 이용한다.\n",
    "    - 강화학습은 보상과 처벌 체계를 세우고 모델이 환경을 경험하며 배우는 학습이다. \n",
    "    - 이 외에도 레이블 부족한 데이터를 학습하는 준지도 학습, 학습법을 연구하는 메타학습, 데이터를 반복없이 학습하는 원샷 학습,\n",
    "    \n",
    "      한 문제 학습 후 다른 문제에도 적용하는 전이학습 등이 연구되고 있다.\n",
    "      \n",
    "3) 딥러닝과 신경망\n",
    "\n",
    "    - 인공신경망의 층을 여러 겹 쌓아 학습하면 심층 신경망(DNN) 딥러닝이 된다. \n",
    "    - 정제되지 않은 데이터를 머신러닝 알고리즘에 입력하려면 특징을 사람이 직접 추출해야한다.\n",
    "    \n",
    "      ( 특징 추출, 특징 공학 이라고 한다. )\n",
    "    - 특징 추출에서는 분석자가 데이터에 대한 경험과 노하우가 매우 중요하고 사람 손이 많이 필요했다.\n",
    "        - 추출 단계마저 자동화하려는 노력이 계속되었고, 딥러닝 기술이 등장하며 상당 부분 해결되었다.\n",
    "        - 즉 딥러닝은 사람의 개입을 더욱 줄이는 머신러닝 알고리즘이라고 볼 수 있다. \n",
    "        \n",
    "    - 딥러닝에도 다양한 제약이 있다.\n",
    "        1) 데이터 양이 많아야 높은 정확도를 낸다.\n",
    "        2) 많은 시간과 고사양의 컴퓨팅 자원이 필요하다. \n",
    "\n",
    "4) 파이토치?\n",
    "\n",
    "    - 파이토치는 페이스북 주도로 여러 회사와 대학이 합심해 개발한 오픈소스 소프트웨어로\n",
    "    \n",
    "      머신러닝, 딥러닝 모델을 쉽게 구현할 수 있도록 많은 편의를 제공하는 프레임워크이다. \n",
    "      \n",
    "    - 간결하고 직관적이며, 코드가 의미하는 바를 그대로 나타낸다. \n",
    "    - 동적계산 그래프 방식을 이용해 유연한 모델을 만들며, 실시간 데이터에 대응 가능하다. "
   ]
  },
  {
   "cell_type": "markdown",
   "metadata": {},
   "source": [
    "Chapter2\n",
    "\n",
    "파이토치 시작하기 "
   ]
  },
  {
   "cell_type": "code",
   "execution_count": 1,
   "metadata": {},
   "outputs": [
    {
     "name": "stdout",
     "output_type": "stream",
     "text": [
      "Looking in links: https://download.pytorch.org/whl/torch_stable.html\n",
      "Collecting torch==1.4.0+cpu\n",
      "  Downloading https://download.pytorch.org/whl/cpu/torch-1.4.0%2Bcpu-cp38-cp38-win_amd64.whl (77.4 MB)\n",
      "Collecting torchvision==0.5.0+cpu\n",
      "  Downloading https://download.pytorch.org/whl/cpu/torchvision-0.5.0%2Bcpu-cp38-cp38-win_amd64.whl (485 kB)\n",
      "Requirement already satisfied: six in c:\\python\\python38\\lib\\site-packages (from torchvision==0.5.0+cpu) (1.14.0)\n",
      "Requirement already satisfied: pillow>=4.1.1 in c:\\python\\python38\\lib\\site-packages (from torchvision==0.5.0+cpu) (7.0.0)\n",
      "Requirement already satisfied: numpy in c:\\python\\python38\\lib\\site-packages (from torchvision==0.5.0+cpu) (1.18.1)\n",
      "Installing collected packages: torch, torchvision\n",
      "Successfully installed torch-1.4.0+cpu torchvision-0.5.0+cpu\n"
     ]
    }
   ],
   "source": [
    "#파이토치 설치 pytorch.org에 접속하여 운영체제와 환경에 맞춰 설치옵션이 반영된 설치 명령어 \n",
    "\n",
    "!pip install torch==1.4.0+cpu torchvision==0.5.0+cpu -f https://download.pytorch.org/whl/torch_stable.html"
   ]
  },
  {
   "cell_type": "code",
   "execution_count": 2,
   "metadata": {},
   "outputs": [
    {
     "name": "stdout",
     "output_type": "stream",
     "text": [
      "Collecting torchtext\n",
      "  Downloading torchtext-0.5.0-py3-none-any.whl (73 kB)\n",
      "Requirement already satisfied: requests in c:\\python\\python38\\lib\\site-packages (from torchtext) (2.22.0)\n",
      "Requirement already satisfied: numpy in c:\\python\\python38\\lib\\site-packages (from torchtext) (1.18.1)\n",
      "Collecting tqdm\n",
      "  Using cached tqdm-4.42.1-py2.py3-none-any.whl (59 kB)\n",
      "Collecting sentencepiece\n",
      "  Downloading sentencepiece-0.1.85-cp38-cp38-win_amd64.whl (1.2 MB)\n",
      "Requirement already satisfied: six in c:\\python\\python38\\lib\\site-packages (from torchtext) (1.14.0)\n",
      "Requirement already satisfied: torch in c:\\python\\python38\\lib\\site-packages (from torchtext) (1.4.0+cpu)\n",
      "Requirement already satisfied: urllib3!=1.25.0,!=1.25.1,<1.26,>=1.21.1 in c:\\python\\python38\\lib\\site-packages (from requests->torchtext) (1.25.8)\n",
      "Requirement already satisfied: idna<2.9,>=2.5 in c:\\python\\python38\\lib\\site-packages (from requests->torchtext) (2.8)\n",
      "Requirement already satisfied: certifi>=2017.4.17 in c:\\python\\python38\\lib\\site-packages (from requests->torchtext) (2019.11.28)\n",
      "Requirement already satisfied: chardet<3.1.0,>=3.0.2 in c:\\python\\python38\\lib\\site-packages (from requests->torchtext) (3.0.4)\n",
      "Installing collected packages: tqdm, sentencepiece, torchtext\n",
      "Successfully installed sentencepiece-0.1.85 torchtext-0.5.0 tqdm-4.42.1\n"
     ]
    }
   ],
   "source": [
    "#자연어 처리 도구인 토치텍스트 설치 \n",
    "!pip install torchtext"
   ]
  },
  {
   "cell_type": "markdown",
   "metadata": {},
   "source": [
    "- 이 외에도 넘파이, 맷플롯립, 사이킷런이 필요\n",
    "- 예제 다운로드 https://github.com/keon/3-min-pytorch.git"
   ]
  },
  {
   "cell_type": "code",
   "execution_count": null,
   "metadata": {},
   "outputs": [],
   "source": []
  }
 ],
 "metadata": {
  "kernelspec": {
   "display_name": "Python 3",
   "language": "python",
   "name": "python3"
  },
  "language_info": {
   "codemirror_mode": {
    "name": "ipython",
    "version": 3
   },
   "file_extension": ".py",
   "mimetype": "text/x-python",
   "name": "python",
   "nbconvert_exporter": "python",
   "pygments_lexer": "ipython3",
   "version": "3.8.1"
  }
 },
 "nbformat": 4,
 "nbformat_minor": 4
}

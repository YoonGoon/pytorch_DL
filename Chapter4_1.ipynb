{
 "cells": [
  {
   "cell_type": "markdown",
   "metadata": {},
   "source": [
    "패션 아이템을 구분하는 DNN\n",
    "\n",
    "- 패션 데이터를 모아놓은 Fashion MNIST를 이용해 패션 아이템을 구분하는 모델 실습\n",
    "- 딥러닝 모델을 만들고 학습에 앞서 데이터를 모아 가공하는 작업이 필요하다.\n",
    "- 토치비전이 데이터셋을 받고 학습데이터를 나누는 작업까지 진행해준다.\n",
    "- torch.utils.data = 표준 데이터셋 정의 및 데이터 로드, 스플릿 등을 하는 도구들이 들어있는 모듈\n",
    "- torchvision.datasets = 위의 utills.data의 이미지 데이터셋의 모음\n",
    "- torchvision.transforms = 이미지 데이터셋에 이용가능한 여러가지 변환 필터를 담은 모듈\n",
    "- torchvision.utils = 이미지 데이터를 저장하고 시각화 하기 위한 도구가 있는 모듈"
   ]
  },
  {
   "cell_type": "code",
   "execution_count": 1,
   "metadata": {},
   "outputs": [
    {
     "name": "stdout",
     "output_type": "stream",
     "text": [
      "Downloading http://fashion-mnist.s3-website.eu-central-1.amazonaws.com/train-images-idx3-ubyte.gz to ./.data/FashionMNIST\\raw\\train-images-idx3-ubyte.gz\n"
     ]
    },
    {
     "data": {
      "application/vnd.jupyter.widget-view+json": {
       "model_id": "d064d92f698d46ef870e35828fc79c81",
       "version_major": 2,
       "version_minor": 0
      },
      "text/plain": [
       "HBox(children=(FloatProgress(value=1.0, bar_style='info', max=1.0), HTML(value='')))"
      ]
     },
     "metadata": {},
     "output_type": "display_data"
    },
    {
     "name": "stdout",
     "output_type": "stream",
     "text": [
      "Extracting ./.data/FashionMNIST\\raw\\train-images-idx3-ubyte.gz to ./.data/FashionMNIST\\raw\n",
      "Downloading http://fashion-mnist.s3-website.eu-central-1.amazonaws.com/train-labels-idx1-ubyte.gz to ./.data/FashionMNIST\\raw\\train-labels-idx1-ubyte.gz\n"
     ]
    },
    {
     "data": {
      "application/vnd.jupyter.widget-view+json": {
       "model_id": "ec8eab4a5d994117a88990f8a34825ad",
       "version_major": 2,
       "version_minor": 0
      },
      "text/plain": [
       "HBox(children=(FloatProgress(value=1.0, bar_style='info', max=1.0), HTML(value='')))"
      ]
     },
     "metadata": {},
     "output_type": "display_data"
    },
    {
     "name": "stdout",
     "output_type": "stream",
     "text": [
      "Extracting ./.data/FashionMNIST\\raw\\train-labels-idx1-ubyte.gz to ./.data/FashionMNIST\\raw\n",
      "Downloading http://fashion-mnist.s3-website.eu-central-1.amazonaws.com/t10k-images-idx3-ubyte.gz to ./.data/FashionMNIST\\raw\\t10k-images-idx3-ubyte.gz\n"
     ]
    },
    {
     "data": {
      "application/vnd.jupyter.widget-view+json": {
       "model_id": "eedb00dc337849029378768270947fea",
       "version_major": 2,
       "version_minor": 0
      },
      "text/plain": [
       "HBox(children=(FloatProgress(value=1.0, bar_style='info', max=1.0), HTML(value='')))"
      ]
     },
     "metadata": {},
     "output_type": "display_data"
    },
    {
     "name": "stdout",
     "output_type": "stream",
     "text": [
      "Extracting ./.data/FashionMNIST\\raw\\t10k-images-idx3-ubyte.gz to ./.data/FashionMNIST\\raw\n",
      "Downloading http://fashion-mnist.s3-website.eu-central-1.amazonaws.com/t10k-labels-idx1-ubyte.gz to ./.data/FashionMNIST\\raw\\t10k-labels-idx1-ubyte.gz\n"
     ]
    },
    {
     "data": {
      "application/vnd.jupyter.widget-view+json": {
       "model_id": "cf22aa6f07a949428e7e2822ccf5478e",
       "version_major": 2,
       "version_minor": 0
      },
      "text/plain": [
       "HBox(children=(FloatProgress(value=1.0, bar_style='info', max=1.0), HTML(value='')))"
      ]
     },
     "metadata": {},
     "output_type": "display_data"
    },
    {
     "name": "stdout",
     "output_type": "stream",
     "text": [
      "Extracting ./.data/FashionMNIST\\raw\\t10k-labels-idx1-ubyte.gz to ./.data/FashionMNIST\\raw\n",
      "Processing...\n",
      "\n",
      "\n",
      "Done!\n"
     ]
    }
   ],
   "source": [
    "#토치비전, 맷플롯립이용하여 데이터셋 관찰\n",
    "\n",
    "#라이브러리 임포트\n",
    "from torchvision import datasets, transforms, utils\n",
    "from torch.utils import data\n",
    "import matplotlib.pyplot as plt\n",
    "import numpy as np\n",
    "\n",
    "#이미지를 텐서로 변환\n",
    "transform = transforms.Compose([transforms.ToTensor()]) #이미지 크기 조정 = Resize(), 정규화 Normalize()\n",
    "\n",
    "#데이터 다운\n",
    "trainset = datasets.FashionMNIST(\n",
    "    root      = './.data/', \n",
    "    train     = True,\n",
    "    download  = True,\n",
    "    transform = transform\n",
    ")\n",
    "testset = datasets.FashionMNIST(\n",
    "    root      = './.data/', \n",
    "    train     = False,\n",
    "    download  = True,\n",
    "    transform = transform\n",
    ")  # 이 때 생성된 객체는 파이토치 내부 클래스 'torch.utils.data.Dataset' 상속\n",
    "   # 파이토치의 'DataLoader'에 바로 넣어 사용 가능하다. (배치로 나누고 학습시 반복문 안에서 데이터 공급하는 클래스)"
   ]
  },
  {
   "cell_type": "code",
   "execution_count": 2,
   "metadata": {},
   "outputs": [],
   "source": [
    "#데이터 로더 매개변수에 데이터를 넣어주고 배치크기 지정\n",
    "batch_size = 16\n",
    "\n",
    "train_loader = data.DataLoader( dataset = trainset,\n",
    "                              batch_size = batch_size)\n",
    "test_loader = data.DataLoader( dataset = testset,\n",
    "                             batch_size = batch_size)"
   ]
  },
  {
   "cell_type": "code",
   "execution_count": 5,
   "metadata": {},
   "outputs": [
    {
     "data": {
      "image/png": "[encoded data removed]",
      "text/plain": [
       "<Figure size 720x504 with 1 Axes>"
      ]
     },
     "metadata": {
      "needs_background": "light"
     },
     "output_type": "display_data"
    }
   ],
   "source": [
    "#데이터 확인\n",
    "dataiter = iter(train_loader)\n",
    "images, labels = next(dataiter)\n",
    "\n",
    "img = utils.make_grid(images, padding =  0) # 여러 이미지를 모아 하나의 이미지로 만들기\n",
    "npimg = img.numpy() #텐서를 넘파이 행렬로 바꿔 matplotlib과 호환되게 변환\n",
    "plt.figure(figsize=(10,7))\n",
    "plt.imshow(np.transpose(npimg, (1,2,0))) #인식 차원의 순서가 달라 0번째 차원을 맨뒤로 보낸다. \n",
    "plt.show()"
   ]
  },
  {
   "cell_type": "code",
   "execution_count": 6,
   "metadata": {},
   "outputs": [
    {
     "name": "stdout",
     "output_type": "stream",
     "text": [
      "tensor([9, 0, 0, 3, 0, 2, 7, 2, 5, 5, 0, 9, 5, 5, 7, 9])\n"
     ]
    }
   ],
   "source": [
    "#레이블 확인\n",
    "print(labels)"
   ]
  },
  {
   "cell_type": "code",
   "execution_count": 7,
   "metadata": {},
   "outputs": [
    {
     "name": "stdout",
     "output_type": "stream",
     "text": [
      "Ankle boot\n",
      "T-shirt/top\n",
      "T-shirt/top\n",
      "Dress\n",
      "T-shirt/top\n",
      "Pullover\n",
      "Sneaker\n",
      "Pullover\n",
      "Sandal\n",
      "Sandal\n",
      "T-shirt/top\n",
      "Ankle boot\n",
      "Sandal\n",
      "Sandal\n",
      "Sneaker\n",
      "Ankle boot\n"
     ]
    }
   ],
   "source": [
    "#이미지 해석을 위한 딕셔너리 생성 \n",
    "CLASSES = {\n",
    "    0: 'T-shirt/top',\n",
    "    1: 'Trouser',\n",
    "    2: 'Pullover',\n",
    "    3: 'Dress',\n",
    "    4: 'Coat',\n",
    "    5: 'Sandal',\n",
    "    6: 'Shirt',\n",
    "    7: 'Sneaker',\n",
    "    8: 'Bag',\n",
    "    9: 'Ankle boot'\n",
    "}\n",
    "\n",
    "#labels의 영문 텍스트 출력\n",
    "for label in labels :\n",
    "    index = label.item()\n",
    "    print(CLASSES[index])"
   ]
  },
  {
   "cell_type": "markdown",
   "metadata": {},
   "source": [
    "- 이미지 데이터는 가로, 세로, 색상으로 구성된 3차원 행렬로 표현된다. \n",
    "- 가로 세로는 각각의 픽셀 수, 색상값은 흑백같은경우 1가지 숫자로 표현 가능 \n",
    "- 각 픽셀은 0~255의 값을 가지며 위의 예제의 이미지 크기는 28*28 색상 채널은 흑백 한가지로 입력 x의 특징값 수는 784개이다. "
   ]
  },
  {
   "cell_type": "code",
   "execution_count": 12,
   "metadata": {},
   "outputs": [
    {
     "data": {
      "image/png": "[encoded data removed]",
      "text/plain": [
       "<Figure size 432x288 with 1 Axes>"
      ]
     },
     "metadata": {
      "needs_background": "light"
     },
     "output_type": "display_data"
    }
   ],
   "source": [
    "#개별 이미지를 꺼내보기 위한 코드 \n",
    "idx = 4\n",
    "item_img = images[idx]\n",
    "item_npimg = item_img.squeeze().numpy() #넘파이 행렬로 변환 \n",
    "plt.title(CLASSES[labels[idx].item()])\n",
    "plt.imshow(item_npimg, cmap = 'gray')\n",
    "plt.show()"
   ]
  },
  {
   "cell_type": "code",
   "execution_count": 39,
   "metadata": {},
   "outputs": [],
   "source": [
    "#기본 심층 신경망 모델 생성 (DNN)\n",
    "\n",
    "#라이브러리 로드 \n",
    "import torch\n",
    "import torch.nn as nn #인공싱경망 재료\n",
    "import torch.optim as optim #최적화\n",
    "import torch.nn.functional as F #nn모듈의 함수버전\n",
    "\n",
    "#CUDA 이용여부확인 및 설정\n",
    "USE_CUDA = torch.cuda.is_available()\n",
    "DEVICE = torch.device(\"cuda\" if USE_CUDA else \"cpu\")\n",
    "\n",
    "#대용량의 이미지 데이터를 배치로 나눠 이용 \n",
    "EPOCHS = 30\n",
    "BATCH_SIZE = 64"
   ]
  },
  {
   "cell_type": "code",
   "execution_count": 40,
   "metadata": {},
   "outputs": [],
   "source": [
    "#데이터 불러오기 \n",
    "transform = transforms.Compose([transforms.ToTensor()])\n",
    "\n",
    "trainset = datasets.FashionMNIST(\n",
    "    root      = './.data/', \n",
    "    train     = True,\n",
    "    download  = True,\n",
    "    transform = transform\n",
    ")\n",
    "testset = datasets.FashionMNIST(\n",
    "    root      = './.data/', \n",
    "    train     = False,\n",
    "    download  = True,\n",
    "    transform = transform\n",
    ")\n",
    "\n",
    "train_loader = torch.utils.data.DataLoader(\n",
    "    dataset     = trainset,\n",
    "    batch_size  = BATCH_SIZE,\n",
    "    shuffle     = True,\n",
    ")\n",
    "test_loader = torch.utils.data.DataLoader(\n",
    "    dataset     = testset,\n",
    "    batch_size  = BATCH_SIZE,\n",
    "    shuffle     = True,\n",
    ")"
   ]
  },
  {
   "cell_type": "code",
   "execution_count": 41,
   "metadata": {},
   "outputs": [],
   "source": [
    "#레이어가 3개인 3층 인공신경망 \n",
    "#모델 가중치 변수들이 들어가는 연산 수행\n",
    "#픽셀값 784개 입력받아 가중치를 행렬곱하고 편항 더해 값 256 출력\n",
    "#똑같은 과정으로 fc2, 3을거쳐 마지막 10개의 값 출력 (클래스를 나타낸다.)\n",
    "class Net(nn.Module):\n",
    "    def __init__(self):\n",
    "        super(Net, self).__init__()\n",
    "        self.fc1 = nn.Linear(784,256)\n",
    "        self.fc2 = nn.Linear(256,128) \n",
    "        self.fc3 = nn.Linear(128,10)\n",
    "        \n",
    "#자세한 데이터 흐름의 정의 \n",
    "\n",
    "    def forward(self, x): \n",
    "        x = x.view(-1, 784)       #입력을 받아 view함수를 이용하여 1차원 행렬 변환 후 Relu 활성화 함수 거친다.\n",
    "        x = F.relu(self.fc1(x))   #nn.Linear와 같이 가중치가 있는 연산은 생성자에 선언해주는 것이 좋다. \n",
    "        x = F.relu(self.fc2(x))\n",
    "        x = self.fc3(x)\n",
    "        return x\n"
   ]
  },
  {
   "cell_type": "code",
   "execution_count": 42,
   "metadata": {},
   "outputs": [],
   "source": [
    "#모델 선언 및 to()함수로 연산을 어디서 수행할지 설정 \n",
    "model = Net().to(DEVICE)"
   ]
  },
  {
   "cell_type": "code",
   "execution_count": 43,
   "metadata": {},
   "outputs": [],
   "source": [
    "#최적화 알고리즘으로 torch내장모듈인 optim.SGD 이용(확률적 경사하강법)\n",
    "\n",
    "optimizer = optim.SGD(model.parameters(), lr = 0.01) #학습률 0.01, 모델 내부 정보 넘겨주는 model.parameters 이용"
   ]
  },
  {
   "cell_type": "code",
   "execution_count": 44,
   "metadata": {},
   "outputs": [],
   "source": [
    "#학습은 데이터를 보고 모델의 가중치 조절 작업 반복\n",
    "#학습에 들어가는 모든 연산은 train()에서 해결 \n",
    "def train(model, train_loader, optimizer):\n",
    "    model.train()#학습모드 변경\n",
    "    for batch_idx, (data, target) in enumerate(train_loader):  #모델 입력 data오양 [ 배치크기, 색, 높이, 넓이 ] \n",
    "        # 학습 데이터를 DEVICE의 메모리로 보냄\n",
    "        data, target = data.to(DEVICE), target.to(DEVICE) # 학습 데이터를 DEVICE의 메모리로 보냄\n",
    "        optimizer.zero_grad() #기울기 계산\n",
    "        output = model(data)#학습 데이터에 대한 모델 예측값\n",
    "        loss = F.cross_entropy(output, target)# 오차함수, 가중치 보관이 필요없어 criterion함수 미생성\n",
    "        loss.backward()\n",
    "        optimizer.step()"
   ]
  },
  {
   "cell_type": "markdown",
   "metadata": {},
   "source": [
    "- 우리가 모든 모델을 생성시, 학습 데이터에만 최적화한 모델이 아닌 모든 데이터에서 높은 성능을 보이는 모델을 원한다. \n",
    "- 모든 데이터에 최적화 하는 것을 일반화라고 하며, 학습 데이터를 기반으로 한 모델이 미학습 데이터에 얼마나 적응하는지를\n",
    "\n",
    "  수치로 나타낸 것을 '일반화 오류'라고 한다. (작을 수록 좋다. )\n",
    "- 보통 머신러닝은 학습, 검증, 테스트 데이터셋으로 나누며 학습용 데이터셋은 가중치를 조절하고 \n",
    "  \n",
    "  검증용 데이터는 배치 크기와 모델 설계같은 하이퍼 파라미터를 조절하는데 이용하고 \n",
    "  \n",
    "  테스트 셋은 성능 보고에 이용한다. "
   ]
  },
  {
   "cell_type": "code",
   "execution_count": 45,
   "metadata": {},
   "outputs": [],
   "source": [
    "#epoch가 끝날 때마다 테스트 셋 모델 성능 측정\n",
    "def evaluate(model, test_loader):\n",
    "    model.eval() #평가모드로 전환\n",
    "    test_loss = 0\n",
    "    correct = 0#테스트 오차와 예측이 맞은 변수를 0으로 초기화 \n",
    "    with torch.no_grad(): #평가 과정은 기울기 계산 필요 없음.\n",
    "        for data, target in test_loader:\n",
    "            data, target = data.to(DEVICE), target.to(DEVICE)\n",
    "            output = model(data)\n",
    "\n",
    "            # 모든 오차 더하기\n",
    "            test_loss += F.cross_entropy(output, target,\n",
    "                                         reduction='sum').item() #reduction = 'sum'지정으로 미니배치 평균이 아닌 합을 받아온다. \n",
    "            \n",
    "            # 가장 큰 값을 가진 클래스가 모델의 예측입니다.\n",
    "            # 예측과 정답을 비교하여 일치할 경우 correct에 1을 더합니다.\n",
    "            pred = output.max(1, keepdim=True)[1]#가장 큰값과, 인덱스 출력\n",
    "            correct += pred.eq(target.view_as(pred)).sum().item()#각 배치마다 정답 맞힌 개수 합\n",
    "\n",
    "    test_loss /= len(test_loader.dataset)\n",
    "    test_accuracy = 100. * correct / len(test_loader.dataset)#테스트 셋 데이터 수로 나눠 평균을 구하여 오차와 맞힌 개수를 100에 곱하여 정확도 구하기 \n",
    "    return test_loss, test_accuracy"
   ]
  },
  {
   "cell_type": "code",
   "execution_count": 46,
   "metadata": {},
   "outputs": [
    {
     "name": "stdout",
     "output_type": "stream",
     "text": [
      "[1] TEST Loss : 0.836657514667511, Accuracy : 68.43%\n",
      "[2] TEST Loss : 0.6700313878059387, Accuracy : 75.95%\n",
      "[3] TEST Loss : 0.597106874704361, Accuracy : 78.74%\n",
      "[4] TEST Loss : 0.5545449652671814, Accuracy : 80.38%\n",
      "[5] TEST Loss : 0.525996725845337, Accuracy : 81.27%\n",
      "[6] TEST Loss : 0.5019499384880066, Accuracy : 81.92%\n",
      "[7] TEST Loss : 0.48382047057151795, Accuracy : 82.88%\n",
      "[8] TEST Loss : 0.49915523371696474, Accuracy : 82.19%\n",
      "[9] TEST Loss : 0.46939105978012086, Accuracy : 83.0%\n",
      "[10] TEST Loss : 0.467610990524292, Accuracy : 83.27%\n",
      "[11] TEST Loss : 0.44304250450134275, Accuracy : 84.26%\n",
      "[12] TEST Loss : 0.4371254809379578, Accuracy : 84.62%\n",
      "[13] TEST Loss : 0.4385742992401123, Accuracy : 84.47%\n",
      "[14] TEST Loss : 0.4310720860004425, Accuracy : 84.76%\n",
      "[15] TEST Loss : 0.42036981868743895, Accuracy : 84.97%\n",
      "[16] TEST Loss : 0.41772903327941896, Accuracy : 85.29%\n",
      "[17] TEST Loss : 0.4123927303314209, Accuracy : 85.4%\n",
      "[18] TEST Loss : 0.406612428188324, Accuracy : 85.57%\n",
      "[19] TEST Loss : 0.40501128211021425, Accuracy : 85.54%\n",
      "[20] TEST Loss : 0.3990748433589935, Accuracy : 86.07%\n",
      "[21] TEST Loss : 0.41449328751564024, Accuracy : 85.17%\n",
      "[22] TEST Loss : 0.38974772481918335, Accuracy : 86.29%\n",
      "[23] TEST Loss : 0.38846660704612734, Accuracy : 86.22%\n",
      "[24] TEST Loss : 0.3964711039543152, Accuracy : 85.54%\n",
      "[25] TEST Loss : 0.3788831158399582, Accuracy : 86.37%\n",
      "[26] TEST Loss : 0.3768163872241974, Accuracy : 86.63%\n",
      "[27] TEST Loss : 0.3787013174057007, Accuracy : 86.53%\n",
      "[28] TEST Loss : 0.37905141253471375, Accuracy : 86.55%\n",
      "[29] TEST Loss : 0.3702833417415619, Accuracy : 86.62%\n",
      "[30] TEST Loss : 0.36756859884262083, Accuracy : 86.78%\n"
     ]
    }
   ],
   "source": [
    "#실제 학습\n",
    "for epoch in range(1, EPOCHS + 1):\n",
    "    train(model, train_loader, optimizer)\n",
    "    test_loss, test_accuracy = evaluate(model, test_loader)\n",
    "    print('[{}] TEST Loss : {}, Accuracy : {}%'.format(epoch, test_loss, test_accuracy))"
   ]
  },
  {
   "cell_type": "code",
   "execution_count": null,
   "metadata": {},
   "outputs": [],
   "source": []
  }
 ],
 "metadata": {
  "kernelspec": {
   "display_name": "Python 3",
   "language": "python",
   "name": "python3"
  },
  "language_info": {
   "codemirror_mode": {
    "name": "ipython",
    "version": 3
   },
   "file_extension": ".py",
   "mimetype": "text/x-python",
   "name": "python",
   "nbconvert_exporter": "python",
   "pygments_lexer": "ipython3",
   "version": "3.8.1"
  }
 },
 "nbformat": 4,
 "nbformat_minor": 4
}

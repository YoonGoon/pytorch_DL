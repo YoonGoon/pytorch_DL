{
 "cells": [
  {
   "cell_type": "markdown",
   "metadata": {},
   "source": [
    "Seq2Seq 기계번역\n",
    "\n",
    "- RNN 기반의 번역모델로 기계번역의 새로운 패러다임을 열었다고 할 정도로 뛰어난 성능 보여줌\n",
    "- 시퀀스를 입력받아 또 다른 시퀀스를 출력 ( 문장을 다른 문장으로 번역 )\n",
    "- 이와 같은 모델이 능력 학습 위해선 병렬 말뭉치라고 하는 원문과 번역문이 쌍을 이루는 형태의 많은 데이터가 필요하다. \n",
    "- Seq2Seq는 각자 다른 역할을 하는 두 개의 RNN을 이어붙인 모델이다. \n",
    "- 이번 예제는 간소화하여 진행 \n",
    "- 두 모델은 각 인코더와 디코더 라는 두 RNN을 부여한다. \n",
    "- 인코더는 원문의 내용을 학습하는 RNN으로 원문의 단어를 입력받아 문장의 뜻을 내포하는 하나의 고정크기 텐서를 만들어낸다. (문맥벡터)\n",
    "- 디코더는 문맥벡터를 이어받아 번역문 속의 토큰을 차례대로 예상한다. "
   ]
  },
  {
   "cell_type": "code",
   "execution_count": 1,
   "metadata": {},
   "outputs": [
    {
     "name": "stdout",
     "output_type": "stream",
     "text": [
      "hello ->  [104, 101, 108, 108, 111]\n",
      "hola  ->  [104, 111, 108, 97]\n"
     ]
    }
   ],
   "source": [
    "#라이브러리 임포트 \n",
    "#간소화시킨 예제로 단어 단위가 아닌 글자단위로 임베딩 진행\n",
    "import torch\n",
    "import torch.nn as nn\n",
    "import torch.nn.functional as F\n",
    "import random\n",
    "import matplotlib.pyplot as plt\n",
    "\n",
    "#데이터 속에 몇종류의 토큰이 있는지 정의\n",
    "vocab_size = 256  # 총 아스키 코드 개수 ( 영문만 다룰 것이기 때문에, 영문을 숫자로 표현하는 아스킼 코드로 임베딩)\n",
    "\n",
    "x_ = list(map(ord, \"hello\"))  # 아스키 코드 리스트로 변환\n",
    "y_ = list(map(ord, \"hola\"))   # 아스키 코드 리스트로 변환\n",
    "print(\"hello -> \", x_)\n",
    "print(\"hola  -> \", y_)\n",
    "\n",
    "#원문과 번역문을 아스키 코드의 배열로 정의하고 텐서로 변환\n",
    "x = torch.LongTensor(x_)\n",
    "y = torch.LongTensor(y_)"
   ]
  },
  {
   "cell_type": "code",
   "execution_count": 2,
   "metadata": {},
   "outputs": [],
   "source": [
    "class Seq2Seq(nn.Module):\n",
    "    #동작 필요함수 구현\n",
    "    def __init__(self, vocab_size, hidden_size):\n",
    "        super(Seq2Seq, self).__init__()\n",
    "        self.n_layers = 1\n",
    "        self.hidden_size = hidden_size\n",
    "        self.embedding = nn.Embedding(vocab_size, hidden_size)#hidden_size를 임베딩된 토큰이ㅡ 차원값으로 정의 \n",
    "        #원문과 번역문의 문자 체계가 다른 경우는 원문, 번역문용 임베딩을 따로 만들어야 한다. (이번 경우는 둘다 아스키코드 이용가능)\n",
    "        self.encoder = nn.GRU(hidden_size, hidden_size)#인코더 \n",
    "        self.decoder = nn.GRU(hidden_size, hidden_size)#디코더 \n",
    "        #디코더가 번역문의 다음 토큰을 예상하는 ㄴ신경망\n",
    "        self.project = nn.Linear(hidden_size, vocab_size)\n",
    "\n",
    "    def forward(self, inputs, targets):\n",
    "        # 인코더에 들어갈 입력\n",
    "        initial_state = self._init_state()\n",
    "        embedding = self.embedding(inputs).unsqueeze(1) #입력되는 원문을 구성하는 모든 문자 임베딩\n",
    "        # embedding = [seq_len, batch_size, embedding_size]\n",
    "        \n",
    "        # 인코더 (Encoder)\n",
    "        encoder_output, encoder_state = self.encoder(embedding, initial_state)\n",
    "        # encoder_output = [seq_len, batch_size, hidden_size]\n",
    "        # encoder_state  = [n_layers, seq_len, hidden_size]\n",
    "\n",
    "        # 디코더에 들어갈 입력\n",
    "        decoder_state = encoder_state #디코더의 첫 은닉벡터로 지정\n",
    "        decoder_input = torch.LongTensor([0]) #디코더가 번역문의 첫 토큰 예상을 위해서는 인코더의 문맥 벡터와 문장 시작토큰을 입력데이터로 받아야한다. \n",
    "                                                #문장시작토큰은 실제 문장에는 나타나지 않지만, 디코더의 작동을 위해 인위적으로 넣은 토큰(문장 시작을 알리기위함 - 0설정)\n",
    "        \n",
    "        # 디코더 (Decoder)\n",
    "        outputs = []\n",
    "        \n",
    "        #순서대로 예상하고 저장하기 위한 반복문\n",
    "        for i in range(targets.size()[0]):\n",
    "            #첫 토큰과 인코더의 문맥벡터를 동시에 입력받음\n",
    "            decoder_input = self.embedding(decoder_input).unsqueeze(1)\n",
    "            decoder_output, decoder_state = self.decoder(decoder_input, decoder_state)\n",
    "            #디코더의 출력값을 다시 입력력되어 신경망 마지막 층을 거치며 다음 예상겨로가가 나오고 이 결과를 ouputs텐서에 저장해 오차계산시 사용\n",
    "            projection = self.project(decoder_output)\n",
    "            outputs.append(projection)\n",
    "            \n",
    "            #티처 포싱(Teacher Forcing) 사용\n",
    "            #디코더 학습 시, 실제 번역문의 토큰을 디코더의 전 출력값 대신 입력으로 사용해 학습을 가속화하는 방법\n",
    "            #잘못 예측 토큰이 사용되는 것을 방지하기 위해 이용\n",
    "            decoder_input = torch.LongTensor([targets[i]])\n",
    "        #번역문의 모든 토큰에 대한 결과값들이 배열 반환\n",
    "        outputs = torch.stack(outputs).squeeze()\n",
    "        return outputs\n",
    "    \n",
    "    def _init_state(self, batch_size=1):\n",
    "        weight = next(self.parameters()).data\n",
    "        return weight.new(self.n_layers, batch_size, self.hidden_size).zero_()"
   ]
  },
  {
   "cell_type": "code",
   "execution_count": 4,
   "metadata": {},
   "outputs": [],
   "source": [
    "seq2seq = Seq2Seq(vocab_size, 16)\n",
    "criterion = nn.CrossEntropyLoss() #교차 엔트로피 오차이용\n",
    "optimizer = torch.optim.Adam(seq2seq.parameters(), lr=1e-3) #최적화알고리즘"
   ]
  },
  {
   "cell_type": "code",
   "execution_count": 5,
   "metadata": {},
   "outputs": [
    {
     "name": "stdout",
     "output_type": "stream",
     "text": [
      "\n",
      " 반복:0 오차: 5.640087127685547\n",
      "['ú', '·', 'ú', 'î']\n",
      "\n",
      " 반복:100 오차: 2.065296173095703\n",
      "['l', 'l', 'l', 'a']\n",
      "\n",
      " 반복:200 오차: 0.6980044841766357\n",
      "['h', 'o', 'l', 'a']\n",
      "\n",
      " 반복:300 오차: 0.37087923288345337\n",
      "['h', 'o', 'l', 'a']\n",
      "\n",
      " 반복:400 오차: 0.24537064135074615\n",
      "['h', 'o', 'l', 'a']\n",
      "\n",
      " 반복:500 오차: 0.17850184440612793\n",
      "['h', 'o', 'l', 'a']\n",
      "\n",
      " 반복:600 오차: 0.13711902499198914\n",
      "['h', 'o', 'l', 'a']\n",
      "\n",
      " 반복:700 오차: 0.10922811925411224\n",
      "['h', 'o', 'l', 'a']\n",
      "\n",
      " 반복:800 오차: 0.08933883905410767\n",
      "['h', 'o', 'l', 'a']\n",
      "\n",
      " 반복:900 오차: 0.07456357777118683\n",
      "['h', 'o', 'l', 'a']\n"
     ]
    }
   ],
   "source": [
    "log = []\n",
    "\n",
    "#천번의 EPOCHS 학습 \n",
    "for i in range(1000):\n",
    "    prediction = seq2seq(x, y)\n",
    "    loss = criterion(prediction, y)\n",
    "    optimizer.zero_grad()\n",
    "    loss.backward()\n",
    "    optimizer.step()\n",
    "    loss_val = loss.data\n",
    "    log.append(loss_val)\n",
    "    if i % 100 == 0:\n",
    "        print(\"\\n 반복:%d 오차: %s\" % (i, loss_val.item()))\n",
    "        _, top1 = prediction.data.topk(1, 1)\n",
    "        print([chr(c) for c in top1.squeeze().numpy().tolist()])"
   ]
  },
  {
   "cell_type": "code",
   "execution_count": 6,
   "metadata": {},
   "outputs": [
    {
     "data": {
      "image/png": "[encoded data removed]",
      "text/plain": [
       "<Figure size 432x288 with 1 Axes>"
      ]
     },
     "metadata": {
      "needs_background": "light"
     },
     "output_type": "display_data"
    }
   ],
   "source": [
    "plt.plot(log)\n",
    "plt.ylabel('cross entropy loss')\n",
    "plt.show()"
   ]
  },
  {
   "cell_type": "markdown",
   "metadata": {},
   "source": [
    "오차가 줄어들며 원문hello의 결과가 hola로 변화함"
   ]
  },
  {
   "cell_type": "code",
   "execution_count": null,
   "metadata": {},
   "outputs": [],
   "source": []
  }
 ],
 "metadata": {
  "kernelspec": {
   "display_name": "Python 3",
   "language": "python",
   "name": "python3"
  },
  "language_info": {
   "codemirror_mode": {
    "name": "ipython",
    "version": 3
   },
   "file_extension": ".py",
   "mimetype": "text/x-python",
   "name": "python",
   "nbconvert_exporter": "python",
   "pygments_lexer": "ipython3",
   "version": "3.8.1"
  }
 },
 "nbformat": 4,
 "nbformat_minor": 4
}

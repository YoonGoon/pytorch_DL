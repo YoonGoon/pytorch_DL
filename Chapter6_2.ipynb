{
 "cells": [
  {
   "cell_type": "markdown",
   "metadata": {},
   "source": [
    "오토 인코더로 망가진 이미지 복원하기 \n",
    "\n",
    "- 앞의 오토 인코더와는 큰 차이가 없으며, 학습할 때 입력에 잡음을 더하는 방식으로 복원 능력을 강화한 것이 핵심이다. \n",
    "- 이번 예제는 학습 시 모델에 들어갈 입력에 add_noise() 함수를 더해 이미지에 무작위 잡음을 더하면 된다. "
   ]
  },
  {
   "cell_type": "code",
   "execution_count": 1,
   "metadata": {},
   "outputs": [
    {
     "name": "stdout",
     "output_type": "stream",
     "text": [
      "Using Device: cpu\n"
     ]
    }
   ],
   "source": [
    "#오토 인코더로 이미지의 특징 추출하기 \n",
    "#FashionMNIST데이터셋 이용 및 잠재변수 시각화\n",
    "\n",
    "#라이브러리 로드\n",
    "import torch\n",
    "import torchvision\n",
    "import torch.nn.functional as F\n",
    "from torch import nn, optim\n",
    "from torchvision import transforms, datasets \n",
    "import matplotlib.pyplot as plt\n",
    "from mpl_toolkits.mplot3d import Axes3D\n",
    "from matplotlib import cm\n",
    "import numpy as np\n",
    "\n",
    "#하이퍼파라미터\n",
    "EPOCH = 10\n",
    "BATCH_SIZE = 64\n",
    "\n",
    "USE_CUDA = torch.cuda.is_available()\n",
    "DEVICE = torch.device(\"cuda\" if USE_CUDA else \"cpu\")\n",
    "print('Using Device:', DEVICE)\n",
    "\n",
    "#학습 데이터셋 로드 \n",
    "trainset = datasets.FashionMNIST( root = './.data/',\n",
    "                                train = True, \n",
    "                                download = True, \n",
    "                                transform = transforms.ToTensor())\n",
    "\n",
    "\n",
    "train_loader = torch.utils.data.DataLoader( dataset = trainset,\n",
    "                                           batch_size = BATCH_SIZE,\n",
    "                                           shuffle = True, \n",
    "                                           num_workers = 2)\n",
    "\n"
   ]
  },
  {
   "cell_type": "code",
   "execution_count": 2,
   "metadata": {},
   "outputs": [],
   "source": [
    "#오토 인코더 모듈 정의\n",
    "#인코더와 디코더로 나뉜 두 부분을 시퀀셜을 이용하여 두 모듈로 묶어준다.\n",
    "\n",
    "class Autoencoder(nn.Module):\n",
    "    def __init__(self):\n",
    "        super(Autoencoder, self).__init__()\n",
    "        #인코더 데이터 픽셀수인 28*28(784)차원으로 시작하여 최종적으로 3개의 차원 출력(3차원시각화위해)\n",
    "        self.encoder = nn.Sequential(nn.Linear(28*28, 128),\n",
    "                                    nn.ReLU(),\n",
    "                                    nn.Linear(128,64),\n",
    "                                    nn.ReLU(),\n",
    "                                    nn.Linear(64,12),\n",
    "                                    nn.ReLU(),\n",
    "                                    nn.Linear(12,3))\n",
    "        #디코더는 3차원 잠재변수를 받아 다시 784차원 이미지로 복원( 차이는 마지막 출력값을 0과 1사이로 만들어주는 시그모이드 함수 추가)\n",
    "        self.decoder = nn.Sequential(nn.Linear(3,12),\n",
    "                                    nn.ReLU(),\n",
    "                                    nn.Linear(12,64),\n",
    "                                    nn.ReLU(),\n",
    "                                    nn.Linear(64,128),\n",
    "                                    nn.ReLU(),\n",
    "                                    nn.Linear(128,28*28),\n",
    "                                    nn.Sigmoid())\n",
    "        \n",
    "        #데이터의 흐름\n",
    "        \n",
    "    def forward(self, x):\n",
    "        encoded = self.encoder(x)\n",
    "        decoded = self.decoder(encoded)\n",
    "        return encoded, decoded\n",
    "        "
   ]
  },
  {
   "cell_type": "code",
   "execution_count": 3,
   "metadata": {},
   "outputs": [],
   "source": [
    "#모델과 최적화 함수 객채 불러오기 \n",
    "autoencoder = Autoencoder().to(DEVICE)\n",
    "#Adam()은 SGD의 변형 함수이며 학습 중인 기울기를 참고하여 학습속도를 자동으로 변화시킨다. \n",
    "optimizer = torch.optim.Adam(autoencoder.parameters(), lr = 0.005)\n",
    "#디코더에서 나온값과 원본의 차이(오차) 계산을 위해 MSE 함수 이용\n",
    "criterion = nn.MSELoss()"
   ]
  },
  {
   "cell_type": "code",
   "execution_count": 7,
   "metadata": {},
   "outputs": [],
   "source": [
    "def add_noise(img):\n",
    "    noise = torch.randn(img.size())*0.2 #잡음의 강도는 0.2\n",
    "    noisy_img = img+noise\n",
    "    return noisy_img"
   ]
  },
  {
   "cell_type": "code",
   "execution_count": 15,
   "metadata": {},
   "outputs": [],
   "source": [
    "#학습 입력 X와 레이블y모두 원본이미지 x\n",
    "def train(autoencoder, train_loader):\n",
    "    autoencoder.train()\n",
    "    avg_loss = 0\n",
    "    for step, (x, label) in enumerate(train_loader):\n",
    "        x = add_noise(x) #입력에 노이즈 더하기 \n",
    "        x = x.view(-1,28*28).to(DEVICE)\n",
    "        y = x.view(-1,28*28).to(DEVICE)\n",
    "        label = label.to(DEVICE)\n",
    "        \n",
    "        encoded, decoded = autoencoder(x)\n",
    "        \n",
    "        #디코디드에서 y를 빼고 제곱한 값의 평균을 구해 오차 구한다. \n",
    "        loss = criterion(decoded,y)\n",
    "        #기존의 남아있는 기울기 정보 초기화\n",
    "        optimizer.zero_grad()\n",
    "        #함수 기울기를 구하고 최적화 진행\n",
    "        loss.backward()\n",
    "        optimizer.step()\n",
    "        \n",
    "        #학습 중 변화하는 평균 오찻값을 관찰하고, 저장하는 avg_loss변수를 만들고 반복마다 각 배치의 오찻값을 더한 후, \n",
    "        #마지막에 반복횟수만큼 나누어 평균 구함\n",
    "        avg_loss += loss.item()\n",
    "        \n",
    "    return avg_loss/len(train_loader)\n",
    "\n"
   ]
  },
  {
   "cell_type": "code",
   "execution_count": 16,
   "metadata": {},
   "outputs": [
    {
     "name": "stdout",
     "output_type": "stream",
     "text": [
      "EPOCHO 1  LOSS  0.07377702107768196 \n",
      "EPOCHO 2  LOSS  0.06534329741827842 \n",
      "EPOCHO 3  LOSS  0.06394499446600993 \n",
      "EPOCHO 4  LOSS  0.06339804828564115 \n",
      "EPOCHO 5  LOSS  0.06295301732636972 \n",
      "EPOCHO 6  LOSS  0.0627231661127066 \n",
      "EPOCHO 7  LOSS  0.06247991882264614 \n",
      "EPOCHO 8  LOSS  0.06234194651277843 \n",
      "EPOCHO 9  LOSS  0.06221951043872691 \n",
      "EPOCHO 10  LOSS  0.06210339431172368 \n"
     ]
    }
   ],
   "source": [
    "#이번 예제는 시각화를 생략하고 학습과정 확인\n",
    "for epoch in range(1, EPOCH+1):\n",
    "    loss = train(autoencoder, train_loader)\n",
    "    print('EPOCHO {}  LOSS  {} '.format(epoch, loss))\n"
   ]
  },
  {
   "cell_type": "markdown",
   "metadata": {},
   "source": [
    "평균 오찻값이 확연히 떨어지는 것을 확인 가능"
   ]
  },
  {
   "cell_type": "code",
   "execution_count": 19,
   "metadata": {},
   "outputs": [],
   "source": [
    "#잡음 제거 시각화 \n",
    "#본적이 없는 테스트 이미지를 활용해 검증\n",
    "testset = datasets.FashionMNIST( root = './.data/',\n",
    "                               train = False,\n",
    "                               download = True, \n",
    "                               transform = transforms.ToTensor())\n",
    "\n",
    "#테스트 셋 0번째 이미지 한장을 가져와 모델의 입력으로 이용하게 차원과 값의 범위를 수정(0~255(2차원) -> 0~1(1차원))\n",
    "sample_data = testset.data[0].view(-1, 28*28)\n",
    "sample_data = sample_data.type(torch.FloatTensor)/255\n",
    "\n",
    "#테스트 이미지를 학습에 이용한 노이즈 함수로 잡음을 더해주고 모델에 통과 (인코딩 된 것은 무시하고 복원 이미지만 확인)\n",
    "# '_'는 특정값을 무시하는 용도\n",
    "original_x = sample_data[0]\n",
    "noisy_x = add_noise(original_x).to(DEVICE)\n",
    "_, recovered_x = autoencoder(noisy_x)"
   ]
  },
  {
   "cell_type": "code",
   "execution_count": 21,
   "metadata": {},
   "outputs": [
    {
     "data": {
      "text/plain": [
       "<matplotlib.image.AxesImage at 0x12aee15a430>"
      ]
     },
     "execution_count": 21,
     "metadata": {},
     "output_type": "execute_result"
    },
    {
     "data": {
      "image/png": "[encoded data removed]",
      "text/plain": [
       "<Figure size 1080x1080 with 3 Axes>"
      ]
     },
     "metadata": {
      "needs_background": "light"
     },
     "output_type": "display_data"
    }
   ],
   "source": [
    "#시각화를 위해 틀을 만들고, 원본 / 오염/ 복원 이미지를 넘파이 행렬로 변환(시각화를 위해 )\n",
    "\n",
    "f, a = plt.subplots(1,3, figsize = (15,15))\n",
    "\n",
    "original_img = np.reshape(original_x.to('cpu').data.numpy(),(28,28))\n",
    "noisy_img = np.reshape(noisy_x.to('cpu').data.numpy(),(28,28))\n",
    "recovered_img = np.reshape(recovered_x.to('cpu').data.numpy(),(28,28))\n",
    "\n",
    "#원본\n",
    "a[0].set_title('Org')\n",
    "a[0].imshow(original_img, cmap='gray')\n",
    "\n",
    "#오염\n",
    "a[1].set_title('Noisy')\n",
    "a[1].imshow(noisy_img, cmap='gray')\n",
    "\n",
    "#복원\n",
    "\n",
    "a[2].set_title('Recover')\n",
    "a[2].imshow(recovered_img, cmap='gray')"
   ]
  },
  {
   "cell_type": "markdown",
   "metadata": {},
   "source": [
    "복원성능이 어느정도 나오지만, 특징 추출 과정에서 덜 중요한 특징들은 버려질 수 있다."
   ]
  },
  {
   "cell_type": "code",
   "execution_count": null,
   "metadata": {},
   "outputs": [],
   "source": []
  }
 ],
 "metadata": {
  "kernelspec": {
   "display_name": "Python 3",
   "language": "python",
   "name": "python3"
  },
  "language_info": {
   "codemirror_mode": {
    "name": "ipython",
    "version": 3
   },
   "file_extension": ".py",
   "mimetype": "text/x-python",
   "name": "python",
   "nbconvert_exporter": "python",
   "pygments_lexer": "ipython3",
   "version": "3.8.1"
  }
 },
 "nbformat": 4,
 "nbformat_minor": 4
}
